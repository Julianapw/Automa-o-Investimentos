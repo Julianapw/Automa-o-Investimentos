{
 "cells": [
  {
   "cell_type": "code",
   "execution_count": 1,
   "metadata": {},
   "outputs": [],
   "source": [
    "import pandas as pd\n",
    "import yfinance as yf\n",
    "from datetime import datetime"
   ]
  },
  {
   "cell_type": "code",
   "execution_count": 2,
   "metadata": {},
   "outputs": [
    {
     "name": "stdout",
     "output_type": "stream",
     "text": [
      "ITUB4.SA 1000.0\n",
      "BBAS3.SA 2000.0\n",
      "VALE3.SA 1000.0\n",
      "EGIE3.SA 500.0\n",
      "SLCE3.SA 300.0\n",
      "{'ITUB4.SA': 1000.0, 'BBAS3.SA': 2000.0, 'VALE3.SA': 1000.0, 'EGIE3.SA': 500.0, 'SLCE3.SA': 300.0}\n"
     ]
    }
   ],
   "source": [
    "with open(\"carteira.txt\", \"r\") as arquivo:\n",
    "    texto = arquivo.readlines()\n",
    "\n",
    "carteira = {}\n",
    "\n",
    "for linha in texto:\n",
    "    ticker, valor = linha.split(\"-\")\n",
    "    ticker = f\"{ticker.strip()}.SA\"\n",
    "    valor = float(valor.strip())\n",
    "    print(ticker, valor)\n",
    "    carteira[ticker] = valor\n",
    "print(carteira)\n"
   ]
  },
  {
   "cell_type": "code",
   "execution_count": 3,
   "metadata": {},
   "outputs": [
    {
     "name": "stdout",
     "output_type": "stream",
     "text": [
      "YF.download() has changed argument auto_adjust default to True\n"
     ]
    },
    {
     "name": "stderr",
     "output_type": "stream",
     "text": [
      "[*********************100%***********************]  6 of 6 completed\n"
     ]
    },
    {
     "data": {
      "text/html": [
       "<div>\n",
       "<style scoped>\n",
       "    .dataframe tbody tr th:only-of-type {\n",
       "        vertical-align: middle;\n",
       "    }\n",
       "\n",
       "    .dataframe tbody tr th {\n",
       "        vertical-align: top;\n",
       "    }\n",
       "\n",
       "    .dataframe thead th {\n",
       "        text-align: right;\n",
       "    }\n",
       "</style>\n",
       "<table border=\"1\" class=\"dataframe\">\n",
       "  <thead>\n",
       "    <tr style=\"text-align: right;\">\n",
       "      <th>Ticker</th>\n",
       "      <th>BBAS3.SA</th>\n",
       "      <th>EGIE3.SA</th>\n",
       "      <th>ITUB4.SA</th>\n",
       "      <th>SLCE3.SA</th>\n",
       "      <th>VALE3.SA</th>\n",
       "      <th>^BVSP</th>\n",
       "    </tr>\n",
       "    <tr>\n",
       "      <th>Date</th>\n",
       "      <th></th>\n",
       "      <th></th>\n",
       "      <th></th>\n",
       "      <th></th>\n",
       "      <th></th>\n",
       "      <th></th>\n",
       "    </tr>\n",
       "  </thead>\n",
       "  <tbody>\n",
       "    <tr>\n",
       "      <th>2024-01-02</th>\n",
       "      <td>24.944136</td>\n",
       "      <td>41.862671</td>\n",
       "      <td>26.764875</td>\n",
       "      <td>17.552208</td>\n",
       "      <td>67.873283</td>\n",
       "      <td>132697.0</td>\n",
       "    </tr>\n",
       "    <tr>\n",
       "      <th>2024-01-03</th>\n",
       "      <td>24.966911</td>\n",
       "      <td>41.843868</td>\n",
       "      <td>26.469437</td>\n",
       "      <td>17.676556</td>\n",
       "      <td>67.520920</td>\n",
       "      <td>132834.0</td>\n",
       "    </tr>\n",
       "    <tr>\n",
       "      <th>2024-01-04</th>\n",
       "      <td>24.702715</td>\n",
       "      <td>41.721626</td>\n",
       "      <td>26.293776</td>\n",
       "      <td>17.456556</td>\n",
       "      <td>66.613586</td>\n",
       "      <td>131226.0</td>\n",
       "    </tr>\n",
       "    <tr>\n",
       "      <th>2024-01-05</th>\n",
       "      <td>24.998800</td>\n",
       "      <td>41.655800</td>\n",
       "      <td>26.908600</td>\n",
       "      <td>17.714817</td>\n",
       "      <td>65.759125</td>\n",
       "      <td>132023.0</td>\n",
       "    </tr>\n",
       "    <tr>\n",
       "      <th>2024-01-08</th>\n",
       "      <td>25.212889</td>\n",
       "      <td>41.354900</td>\n",
       "      <td>26.621149</td>\n",
       "      <td>17.561773</td>\n",
       "      <td>65.424377</td>\n",
       "      <td>132427.0</td>\n",
       "    </tr>\n",
       "    <tr>\n",
       "      <th>...</th>\n",
       "      <td>...</td>\n",
       "      <td>...</td>\n",
       "      <td>...</td>\n",
       "      <td>...</td>\n",
       "      <td>...</td>\n",
       "      <td>...</td>\n",
       "    </tr>\n",
       "    <tr>\n",
       "      <th>2025-03-26</th>\n",
       "      <td>28.809999</td>\n",
       "      <td>38.709999</td>\n",
       "      <td>32.071968</td>\n",
       "      <td>18.250000</td>\n",
       "      <td>57.689999</td>\n",
       "      <td>132520.0</td>\n",
       "    </tr>\n",
       "    <tr>\n",
       "      <th>2025-03-27</th>\n",
       "      <td>28.690001</td>\n",
       "      <td>39.049999</td>\n",
       "      <td>32.111946</td>\n",
       "      <td>18.590000</td>\n",
       "      <td>58.150002</td>\n",
       "      <td>133149.0</td>\n",
       "    </tr>\n",
       "    <tr>\n",
       "      <th>2025-03-28</th>\n",
       "      <td>28.639999</td>\n",
       "      <td>39.070000</td>\n",
       "      <td>31.672192</td>\n",
       "      <td>18.430000</td>\n",
       "      <td>57.560001</td>\n",
       "      <td>131902.0</td>\n",
       "    </tr>\n",
       "    <tr>\n",
       "      <th>2025-03-31</th>\n",
       "      <td>28.190001</td>\n",
       "      <td>38.599998</td>\n",
       "      <td>31.392349</td>\n",
       "      <td>18.600000</td>\n",
       "      <td>56.700001</td>\n",
       "      <td>130260.0</td>\n",
       "    </tr>\n",
       "    <tr>\n",
       "      <th>2025-04-01</th>\n",
       "      <td>28.330000</td>\n",
       "      <td>38.400002</td>\n",
       "      <td>31.400000</td>\n",
       "      <td>18.850000</td>\n",
       "      <td>57.189999</td>\n",
       "      <td>131147.0</td>\n",
       "    </tr>\n",
       "  </tbody>\n",
       "</table>\n",
       "<p>313 rows × 6 columns</p>\n",
       "</div>"
      ],
      "text/plain": [
       "Ticker       BBAS3.SA   EGIE3.SA   ITUB4.SA   SLCE3.SA   VALE3.SA     ^BVSP\n",
       "Date                                                                       \n",
       "2024-01-02  24.944136  41.862671  26.764875  17.552208  67.873283  132697.0\n",
       "2024-01-03  24.966911  41.843868  26.469437  17.676556  67.520920  132834.0\n",
       "2024-01-04  24.702715  41.721626  26.293776  17.456556  66.613586  131226.0\n",
       "2024-01-05  24.998800  41.655800  26.908600  17.714817  65.759125  132023.0\n",
       "2024-01-08  25.212889  41.354900  26.621149  17.561773  65.424377  132427.0\n",
       "...               ...        ...        ...        ...        ...       ...\n",
       "2025-03-26  28.809999  38.709999  32.071968  18.250000  57.689999  132520.0\n",
       "2025-03-27  28.690001  39.049999  32.111946  18.590000  58.150002  133149.0\n",
       "2025-03-28  28.639999  39.070000  31.672192  18.430000  57.560001  131902.0\n",
       "2025-03-31  28.190001  38.599998  31.392349  18.600000  56.700001  130260.0\n",
       "2025-04-01  28.330000  38.400002  31.400000  18.850000  57.189999  131147.0\n",
       "\n",
       "[313 rows x 6 columns]"
      ]
     },
     "metadata": {},
     "output_type": "display_data"
    }
   ],
   "source": [
    "def obter_cotacoes(tickers, inicio, final):\n",
    "    dados = yf.download(tickers, start=inicio, end=final)\n",
    "    return dados['Close']\n",
    "\n",
    "acao = list(carteira.keys()) + [\"^BVSP\"]\n",
    "\n",
    "data_inicio = \"2024-01-01\"\n",
    "data_final = datetime.today().strftime('%Y-%m-%d')\n",
    "\n",
    "tabela_cotacoes = obter_cotacoes(acao, data_inicio, data_final)\n",
    "display(tabela_cotacoes)\n"
   ]
  },
  {
   "cell_type": "code",
   "execution_count": 4,
   "metadata": {},
   "outputs": [
    {
     "name": "stdout",
     "output_type": "stream",
     "text": [
      "Rentabilidades calculadas: {'BBAS3.SA': 1.1357378865783687, 'EGIE3.SA': 0.9172850346563092, 'ITUB4.SA': 1.173179367928872, 'SLCE3.SA': 1.0739389846922742, 'VALE3.SA': 0.8425995586698136, '^BVSP': 0.9883192536379873}\n"
     ]
    }
   ],
   "source": [
    "rentabilidades = {}\n",
    "for ativo in tabela_cotacoes.columns:\n",
    "    if not tabela_cotacoes[ativo].empty:\n",
    "        rentabilidade = tabela_cotacoes[ativo].iloc[-1] / tabela_cotacoes[ativo].iloc[0]\n",
    "        rentabilidades[ativo] = rentabilidade\n",
    "\n",
    "print(\"Rentabilidades calculadas:\", rentabilidades)"
   ]
  },
  {
   "cell_type": "code",
   "execution_count": 7,
   "metadata": {},
   "outputs": [
    {
     "name": "stdout",
     "output_type": "stream",
     "text": [
      "Valor inicial da carteira: 4800.0\n",
      "Valor final da carteira: 5068.07891249126\n",
      "5.6%\n",
      "-1.2%\n"
     ]
    }
   ],
   "source": [
    "valor_inicial = sum(carteira.values())\n",
    "print(\"Valor inicial da carteira:\", valor_inicial)\n",
    "\n",
    "valor_final = sum(carteira[ativo] * rentabilidades[ativo] for ativo in carteira if ativo in rentabilidades)\n",
    "print(\"Valor final da carteira:\", valor_final)\n",
    "\n",
    "rentabilidade_carteira = (valor_final / valor_inicial) - 1\n",
    "print(f\"{rentabilidade_carteira:.1%}\")\n",
    "rentabilidade_indice = rentabilidades[\"^BVSP\"] - 1\n",
    "print(f\"{rentabilidade_indice:.1%}\")"
   ]
  }
 ],
 "metadata": {
  "kernelspec": {
   "display_name": ".venv",
   "language": "python",
   "name": "python3"
  },
  "language_info": {
   "codemirror_mode": {
    "name": "ipython",
    "version": 3
   },
   "file_extension": ".py",
   "mimetype": "text/x-python",
   "name": "python",
   "nbconvert_exporter": "python",
   "pygments_lexer": "ipython3",
   "version": "3.7.9"
  }
 },
 "nbformat": 4,
 "nbformat_minor": 2
}
